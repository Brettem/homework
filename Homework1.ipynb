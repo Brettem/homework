{
 "cells": [
  {
   "cell_type": "code",
   "execution_count": 2,
   "id": "f9426b1a-44ce-4eb5-9b4a-5950ffad083b",
   "metadata": {},
   "outputs": [],
   "source": [
    "import matplotlib.pyplot as plt\n",
    "import numpy as np\n",
    "import pandas as pd\n",
    "plt.style.use('ggplot')"
   ]
  },
  {
   "cell_type": "markdown",
   "id": "04175f63-9802-4beb-9747-fead5a969b2e",
   "metadata": {
    "tags": []
   },
   "source": [
    "## Exercise 1-2:"
   ]
  },
  {
   "cell_type": "markdown",
   "id": "4723c2ad-3294-4cc6-bb04-7c40d2fb1e7e",
   "metadata": {},
   "source": [
    "a) \n",
    "$\\frac{dx}{dt} = \\lambda x => \\frac{1}{x}dx=\\lambda dt => \\int\\frac{1}{x}dx=\\int\\lambda dt => \\ln{(x)}x_0 + C = \\lambda t => x = e^{\\lambda t}x_0 $"
   ]
  },
  {
   "cell_type": "markdown",
   "id": "08920686-50fa-44dc-ba8a-bf4b36988be2",
   "metadata": {},
   "source": [
    "#### (b) Plot the solution for an initial condition x(0) = 2 from time t = 0 to t = 5 for λ = −5, −1, 0, 0.01, 0.1. Please plot these all on the same figure using the hold on command in Matlab. Label your axes (>> doc xlabel, >> doc ylabel) and include a legend (e.g., legend(’lambda 1’,’lambda 2’,’lambda 3’, ...)).\n"
   ]
  },
  {
   "cell_type": "code",
   "execution_count": null,
   "id": "d5940082-a171-48e6-80b5-8888115eb965",
   "metadata": {},
   "outputs": [],
   "source": [
    "fig,ax = plt.subplots(1,1) # One window\n",
    "fig.set_size_inches(8,5) # (width,height)\n",
    "ax.set_xlabel('X axis')\n",
    "ax.set_ylabel('Y axis')\n",
    "ax.set_title('Radioactive Decay')\n",
    "ax.plot(my_x, my_y);\n",
    "ax.legend(loc=0, shadow=True);\n"
   ]
  }
 ],
 "metadata": {
  "kernelspec": {
   "display_name": "Python 3 (ipykernel)",
   "language": "python",
   "name": "python3"
  },
  "language_info": {
   "codemirror_mode": {
    "name": "ipython",
    "version": 3
   },
   "file_extension": ".py",
   "mimetype": "text/x-python",
   "name": "python",
   "nbconvert_exporter": "python",
   "pygments_lexer": "ipython3",
   "version": "3.9.12"
  }
 },
 "nbformat": 4,
 "nbformat_minor": 5
}
